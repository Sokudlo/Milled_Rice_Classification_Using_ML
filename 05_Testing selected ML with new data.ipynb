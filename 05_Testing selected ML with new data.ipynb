{
 "cells": [
  {
   "cell_type": "code",
   "execution_count": 1,
   "id": "b5b73255",
   "metadata": {},
   "outputs": [],
   "source": [
    "import pandas as pd\n",
    "import seaborn as sns\n",
    "import numpy as np\n",
    "import matplotlib.pyplot as plt\n",
    "from sklearn.metrics import accuracy_score, confusion_matrix"
   ]
  },
  {
   "cell_type": "code",
   "execution_count": 2,
   "id": "30f12188",
   "metadata": {},
   "outputs": [],
   "source": [
    "df_0 = pd.read_csv('Training_Data.csv')"
   ]
  },
  {
   "cell_type": "code",
   "execution_count": 3,
   "id": "be31682f",
   "metadata": {},
   "outputs": [],
   "source": [
    "X_train=df_0[['area', 'major_axis_length', 'perimeter','equiv_diameter']]\n",
    "y_train=df_0[['category']]"
   ]
  },
  {
   "cell_type": "code",
   "execution_count": 4,
   "id": "93de31c1",
   "metadata": {},
   "outputs": [],
   "source": [
    "import sklearn\n",
    "from sklearn.ensemble import RandomForestClassifier\n",
    "from sklearn.model_selection import train_test_split"
   ]
  },
  {
   "cell_type": "code",
   "execution_count": 5,
   "id": "422bd24a",
   "metadata": {},
   "outputs": [],
   "source": [
    "model=RandomForestClassifier()"
   ]
  },
  {
   "cell_type": "code",
   "execution_count": 6,
   "id": "8f7a817d",
   "metadata": {},
   "outputs": [
    {
     "name": "stderr",
     "output_type": "stream",
     "text": [
      "C:\\Users\\LENOVO\\AppData\\Local\\Temp\\ipykernel_9872\\180087699.py:1: DataConversionWarning: A column-vector y was passed when a 1d array was expected. Please change the shape of y to (n_samples,), for example using ravel().\n",
      "  model.fit(X_train, y_train)\n"
     ]
    },
    {
     "data": {
      "text/html": [
       "<style>#sk-container-id-1 {color: black;background-color: white;}#sk-container-id-1 pre{padding: 0;}#sk-container-id-1 div.sk-toggleable {background-color: white;}#sk-container-id-1 label.sk-toggleable__label {cursor: pointer;display: block;width: 100%;margin-bottom: 0;padding: 0.3em;box-sizing: border-box;text-align: center;}#sk-container-id-1 label.sk-toggleable__label-arrow:before {content: \"▸\";float: left;margin-right: 0.25em;color: #696969;}#sk-container-id-1 label.sk-toggleable__label-arrow:hover:before {color: black;}#sk-container-id-1 div.sk-estimator:hover label.sk-toggleable__label-arrow:before {color: black;}#sk-container-id-1 div.sk-toggleable__content {max-height: 0;max-width: 0;overflow: hidden;text-align: left;background-color: #f0f8ff;}#sk-container-id-1 div.sk-toggleable__content pre {margin: 0.2em;color: black;border-radius: 0.25em;background-color: #f0f8ff;}#sk-container-id-1 input.sk-toggleable__control:checked~div.sk-toggleable__content {max-height: 200px;max-width: 100%;overflow: auto;}#sk-container-id-1 input.sk-toggleable__control:checked~label.sk-toggleable__label-arrow:before {content: \"▾\";}#sk-container-id-1 div.sk-estimator input.sk-toggleable__control:checked~label.sk-toggleable__label {background-color: #d4ebff;}#sk-container-id-1 div.sk-label input.sk-toggleable__control:checked~label.sk-toggleable__label {background-color: #d4ebff;}#sk-container-id-1 input.sk-hidden--visually {border: 0;clip: rect(1px 1px 1px 1px);clip: rect(1px, 1px, 1px, 1px);height: 1px;margin: -1px;overflow: hidden;padding: 0;position: absolute;width: 1px;}#sk-container-id-1 div.sk-estimator {font-family: monospace;background-color: #f0f8ff;border: 1px dotted black;border-radius: 0.25em;box-sizing: border-box;margin-bottom: 0.5em;}#sk-container-id-1 div.sk-estimator:hover {background-color: #d4ebff;}#sk-container-id-1 div.sk-parallel-item::after {content: \"\";width: 100%;border-bottom: 1px solid gray;flex-grow: 1;}#sk-container-id-1 div.sk-label:hover label.sk-toggleable__label {background-color: #d4ebff;}#sk-container-id-1 div.sk-serial::before {content: \"\";position: absolute;border-left: 1px solid gray;box-sizing: border-box;top: 0;bottom: 0;left: 50%;z-index: 0;}#sk-container-id-1 div.sk-serial {display: flex;flex-direction: column;align-items: center;background-color: white;padding-right: 0.2em;padding-left: 0.2em;position: relative;}#sk-container-id-1 div.sk-item {position: relative;z-index: 1;}#sk-container-id-1 div.sk-parallel {display: flex;align-items: stretch;justify-content: center;background-color: white;position: relative;}#sk-container-id-1 div.sk-item::before, #sk-container-id-1 div.sk-parallel-item::before {content: \"\";position: absolute;border-left: 1px solid gray;box-sizing: border-box;top: 0;bottom: 0;left: 50%;z-index: -1;}#sk-container-id-1 div.sk-parallel-item {display: flex;flex-direction: column;z-index: 1;position: relative;background-color: white;}#sk-container-id-1 div.sk-parallel-item:first-child::after {align-self: flex-end;width: 50%;}#sk-container-id-1 div.sk-parallel-item:last-child::after {align-self: flex-start;width: 50%;}#sk-container-id-1 div.sk-parallel-item:only-child::after {width: 0;}#sk-container-id-1 div.sk-dashed-wrapped {border: 1px dashed gray;margin: 0 0.4em 0.5em 0.4em;box-sizing: border-box;padding-bottom: 0.4em;background-color: white;}#sk-container-id-1 div.sk-label label {font-family: monospace;font-weight: bold;display: inline-block;line-height: 1.2em;}#sk-container-id-1 div.sk-label-container {text-align: center;}#sk-container-id-1 div.sk-container {/* jupyter's `normalize.less` sets `[hidden] { display: none; }` but bootstrap.min.css set `[hidden] { display: none !important; }` so we also need the `!important` here to be able to override the default hidden behavior on the sphinx rendered scikit-learn.org. See: https://github.com/scikit-learn/scikit-learn/issues/21755 */display: inline-block !important;position: relative;}#sk-container-id-1 div.sk-text-repr-fallback {display: none;}</style><div id=\"sk-container-id-1\" class=\"sk-top-container\"><div class=\"sk-text-repr-fallback\"><pre>RandomForestClassifier()</pre><b>In a Jupyter environment, please rerun this cell to show the HTML representation or trust the notebook. <br />On GitHub, the HTML representation is unable to render, please try loading this page with nbviewer.org.</b></div><div class=\"sk-container\" hidden><div class=\"sk-item\"><div class=\"sk-estimator sk-toggleable\"><input class=\"sk-toggleable__control sk-hidden--visually\" id=\"sk-estimator-id-1\" type=\"checkbox\" checked><label for=\"sk-estimator-id-1\" class=\"sk-toggleable__label sk-toggleable__label-arrow\">RandomForestClassifier</label><div class=\"sk-toggleable__content\"><pre>RandomForestClassifier()</pre></div></div></div></div></div>"
      ],
      "text/plain": [
       "RandomForestClassifier()"
      ]
     },
     "execution_count": 6,
     "metadata": {},
     "output_type": "execute_result"
    }
   ],
   "source": [
    "model.fit(X_train, y_train)"
   ]
  },
  {
   "cell_type": "code",
   "execution_count": 7,
   "id": "25d5200e",
   "metadata": {},
   "outputs": [
    {
     "data": {
      "text/plain": [
       "0.983"
      ]
     },
     "execution_count": 7,
     "metadata": {},
     "output_type": "execute_result"
    }
   ],
   "source": [
    "model.score(X_train, y_train) #R-squared"
   ]
  },
  {
   "cell_type": "code",
   "execution_count": null,
   "id": "34748829",
   "metadata": {},
   "outputs": [],
   "source": []
  },
  {
   "cell_type": "markdown",
   "id": "d2008951",
   "metadata": {},
   "source": [
    "# Sample1"
   ]
  },
  {
   "cell_type": "code",
   "execution_count": 113,
   "id": "8647e545",
   "metadata": {},
   "outputs": [],
   "source": [
    "df_1 = pd.read_csv('Sample1_Data.csv')"
   ]
  },
  {
   "cell_type": "code",
   "execution_count": 114,
   "id": "ca68c94c",
   "metadata": {},
   "outputs": [],
   "source": [
    "X_test1=df_1[['area', 'major_axis_length',  'perimeter','equiv_diameter']]\n",
    "y_test1=df_1[['category']]"
   ]
  },
  {
   "cell_type": "code",
   "execution_count": 115,
   "id": "482c0c7e",
   "metadata": {},
   "outputs": [],
   "source": [
    "import time\n",
    "\n",
    "start_time = time.time()\n",
    "\n",
    "y_pred1=model.predict(X_test1)\n",
    "\n",
    "end_time = time.time()\n",
    "\n",
    "Computation_time = end_time - start_time"
   ]
  },
  {
   "cell_type": "code",
   "execution_count": 116,
   "id": "ff56c226",
   "metadata": {},
   "outputs": [],
   "source": [
    "test1=pd.concat([X_test1, y_test1], axis='columns')"
   ]
  },
  {
   "cell_type": "code",
   "execution_count": 117,
   "id": "05fed092",
   "metadata": {},
   "outputs": [],
   "source": [
    "dc1=pd.concat([test1.reset_index(), pd.Series(y_pred1, name='predicted')], axis='columns')"
   ]
  },
  {
   "cell_type": "code",
   "execution_count": 118,
   "id": "b9b7dd40",
   "metadata": {},
   "outputs": [
    {
     "data": {
      "text/html": [
       "<div>\n",
       "<style scoped>\n",
       "    .dataframe tbody tr th:only-of-type {\n",
       "        vertical-align: middle;\n",
       "    }\n",
       "\n",
       "    .dataframe tbody tr th {\n",
       "        vertical-align: top;\n",
       "    }\n",
       "\n",
       "    .dataframe thead th {\n",
       "        text-align: right;\n",
       "    }\n",
       "</style>\n",
       "<table border=\"1\" class=\"dataframe\">\n",
       "  <thead>\n",
       "    <tr style=\"text-align: right;\">\n",
       "      <th></th>\n",
       "      <th>index</th>\n",
       "      <th>area</th>\n",
       "      <th>major_axis_length</th>\n",
       "      <th>perimeter</th>\n",
       "      <th>equiv_diameter</th>\n",
       "      <th>category</th>\n",
       "      <th>predicted</th>\n",
       "    </tr>\n",
       "  </thead>\n",
       "  <tbody>\n",
       "    <tr>\n",
       "      <th>0</th>\n",
       "      <td>0</td>\n",
       "      <td>1096</td>\n",
       "      <td>73.743430</td>\n",
       "      <td>153.470</td>\n",
       "      <td>37.355997</td>\n",
       "      <td>Whole Rice</td>\n",
       "      <td>Whole Rice</td>\n",
       "    </tr>\n",
       "    <tr>\n",
       "      <th>1</th>\n",
       "      <td>1</td>\n",
       "      <td>1138</td>\n",
       "      <td>71.509387</td>\n",
       "      <td>151.187</td>\n",
       "      <td>38.065031</td>\n",
       "      <td>Whole Rice</td>\n",
       "      <td>Whole Rice</td>\n",
       "    </tr>\n",
       "    <tr>\n",
       "      <th>2</th>\n",
       "      <td>2</td>\n",
       "      <td>1183</td>\n",
       "      <td>73.072335</td>\n",
       "      <td>152.104</td>\n",
       "      <td>38.810339</td>\n",
       "      <td>Whole Rice</td>\n",
       "      <td>Whole Rice</td>\n",
       "    </tr>\n",
       "    <tr>\n",
       "      <th>3</th>\n",
       "      <td>3</td>\n",
       "      <td>1129</td>\n",
       "      <td>67.134645</td>\n",
       "      <td>146.268</td>\n",
       "      <td>37.914212</td>\n",
       "      <td>Whole Rice</td>\n",
       "      <td>Whole Rice</td>\n",
       "    </tr>\n",
       "    <tr>\n",
       "      <th>4</th>\n",
       "      <td>4</td>\n",
       "      <td>1132</td>\n",
       "      <td>68.838994</td>\n",
       "      <td>146.680</td>\n",
       "      <td>37.964551</td>\n",
       "      <td>Whole Rice</td>\n",
       "      <td>Whole Rice</td>\n",
       "    </tr>\n",
       "    <tr>\n",
       "      <th>...</th>\n",
       "      <td>...</td>\n",
       "      <td>...</td>\n",
       "      <td>...</td>\n",
       "      <td>...</td>\n",
       "      <td>...</td>\n",
       "      <td>...</td>\n",
       "      <td>...</td>\n",
       "    </tr>\n",
       "    <tr>\n",
       "      <th>395</th>\n",
       "      <td>395</td>\n",
       "      <td>715</td>\n",
       "      <td>43.090911</td>\n",
       "      <td>102.285</td>\n",
       "      <td>30.172277</td>\n",
       "      <td>Big Broke</td>\n",
       "      <td>Big Broke</td>\n",
       "    </tr>\n",
       "    <tr>\n",
       "      <th>396</th>\n",
       "      <td>396</td>\n",
       "      <td>632</td>\n",
       "      <td>43.107959</td>\n",
       "      <td>98.665</td>\n",
       "      <td>28.367012</td>\n",
       "      <td>Big Broke</td>\n",
       "      <td>Big Broke</td>\n",
       "    </tr>\n",
       "    <tr>\n",
       "      <th>397</th>\n",
       "      <td>397</td>\n",
       "      <td>636</td>\n",
       "      <td>42.307958</td>\n",
       "      <td>99.102</td>\n",
       "      <td>28.456640</td>\n",
       "      <td>Big Broke</td>\n",
       "      <td>Big Broke</td>\n",
       "    </tr>\n",
       "    <tr>\n",
       "      <th>398</th>\n",
       "      <td>398</td>\n",
       "      <td>544</td>\n",
       "      <td>33.561338</td>\n",
       "      <td>84.977</td>\n",
       "      <td>26.318099</td>\n",
       "      <td>Small Broke</td>\n",
       "      <td>Small Broke</td>\n",
       "    </tr>\n",
       "    <tr>\n",
       "      <th>399</th>\n",
       "      <td>399</td>\n",
       "      <td>554</td>\n",
       "      <td>33.481004</td>\n",
       "      <td>86.772</td>\n",
       "      <td>26.558891</td>\n",
       "      <td>Small Broke</td>\n",
       "      <td>Small Broke</td>\n",
       "    </tr>\n",
       "  </tbody>\n",
       "</table>\n",
       "<p>400 rows × 7 columns</p>\n",
       "</div>"
      ],
      "text/plain": [
       "     index  area  major_axis_length  perimeter  equiv_diameter     category  \\\n",
       "0        0  1096          73.743430    153.470       37.355997   Whole Rice   \n",
       "1        1  1138          71.509387    151.187       38.065031   Whole Rice   \n",
       "2        2  1183          73.072335    152.104       38.810339   Whole Rice   \n",
       "3        3  1129          67.134645    146.268       37.914212   Whole Rice   \n",
       "4        4  1132          68.838994    146.680       37.964551   Whole Rice   \n",
       "..     ...   ...                ...        ...             ...          ...   \n",
       "395    395   715          43.090911    102.285       30.172277    Big Broke   \n",
       "396    396   632          43.107959     98.665       28.367012    Big Broke   \n",
       "397    397   636          42.307958     99.102       28.456640    Big Broke   \n",
       "398    398   544          33.561338     84.977       26.318099  Small Broke   \n",
       "399    399   554          33.481004     86.772       26.558891  Small Broke   \n",
       "\n",
       "       predicted  \n",
       "0     Whole Rice  \n",
       "1     Whole Rice  \n",
       "2     Whole Rice  \n",
       "3     Whole Rice  \n",
       "4     Whole Rice  \n",
       "..           ...  \n",
       "395    Big Broke  \n",
       "396    Big Broke  \n",
       "397    Big Broke  \n",
       "398  Small Broke  \n",
       "399  Small Broke  \n",
       "\n",
       "[400 rows x 7 columns]"
      ]
     },
     "execution_count": 118,
     "metadata": {},
     "output_type": "execute_result"
    }
   ],
   "source": [
    "dc1"
   ]
  },
  {
   "cell_type": "code",
   "execution_count": 119,
   "id": "7ef8d8cf",
   "metadata": {},
   "outputs": [
    {
     "name": "stdout",
     "output_type": "stream",
     "text": [
      "Accuracy on testing data: 99.75%\n"
     ]
    }
   ],
   "source": [
    "Testing_accuracy = accuracy_score(y_test1, y_pred1)\n",
    "print('Accuracy on testing data: {:.2f}%'.format(Testing_accuracy * 100))"
   ]
  },
  {
   "cell_type": "code",
   "execution_count": 120,
   "id": "682677c9",
   "metadata": {},
   "outputs": [
    {
     "data": {
      "image/png": "[encoded data removed]",
      "text/plain": [
       "<Figure size 480x480 with 2 Axes>"
      ]
     },
     "metadata": {},
     "output_type": "display_data"
    }
   ],
   "source": [
    "category_labels = sorted(y_test1['category'].unique())\n",
    "\n",
    "cm = confusion_matrix(y_test1, y_pred1)\n",
    "plt.matshow(cm, cmap=plt.cm.Blues)\n",
    "plt.colorbar()\n",
    "\n",
    "plt.xticks(np.arange(len(category_labels)), category_labels, rotation='vertical')\n",
    "plt.yticks(np.arange(len(category_labels)), category_labels)\n",
    "\n",
    "plt.xlabel('Predicted')\n",
    "plt.ylabel('True')\n",
    "\n",
    "for i in range(cm.shape[0]):\n",
    "    for j in range(cm.shape[1]):\n",
    "        plt.text(j, i, str(cm[i, j]), horizontalalignment=\"center\", color=\"white\" if cm[i, j] > cm.max() / 2. else \"black\")\n",
    "\n",
    "plt.show()"
   ]
  },
  {
   "cell_type": "code",
   "execution_count": 121,
   "id": "c890fd9f",
   "metadata": {},
   "outputs": [
    {
     "name": "stdout",
     "output_type": "stream",
     "text": [
      "Total Computation Time: 0.0209 seconds\n",
      "Accuracy Score: 99.75\n",
      "Testing Report:\n",
      "               precision    recall  f1-score   support\n",
      "\n",
      "   Big Broke     1.0000    1.0000    1.0000        18\n",
      "   Head rice     0.9929    1.0000    0.9964       140\n",
      " Small Broke     1.0000    1.0000    1.0000         2\n",
      "  Whole Rice     1.0000    0.9958    0.9979       240\n",
      "\n",
      "    accuracy                         0.9975       400\n",
      "   macro avg     0.9982    0.9990    0.9986       400\n",
      "weighted avg     0.9975    0.9975    0.9975       400\n",
      "\n"
     ]
    }
   ],
   "source": [
    "from sklearn.metrics import accuracy_score, confusion_matrix, classification_report\n",
    "\n",
    "print(f\"Total Computation Time: {Computation_time:.4f} seconds\")\n",
    "print(\"Accuracy Score:\", accuracy_score(y_test1, y_pred1) * 100)\n",
    "print(\"Testing Report:\\n\", classification_report(y_test1, y_pred1, digits=4))"
   ]
  },
  {
   "cell_type": "code",
   "execution_count": 122,
   "id": "d86b3987",
   "metadata": {},
   "outputs": [
    {
     "name": "stdout",
     "output_type": "stream",
     "text": [
      "Total Computation Time: 0.0209\n",
      "Accuracy: 99.7500\n",
      "Macro Avg Precision: 99.8227\n",
      "Macro Avg Recall: 99.8958\n",
      "Macro Avg F1-Score: 99.8588\n"
     ]
    }
   ],
   "source": [
    "# Calculate metrics\n",
    "accuracy = accuracy_score(y_test1, y_pred1)\n",
    "classification_rep = classification_report(y_test1, y_pred1, digits=4, output_dict=True)\n",
    "macro_avg_precision = classification_rep['macro avg']['precision']\n",
    "macro_avg_recall = classification_rep['macro avg']['recall']\n",
    "macro_avg_f1_score = classification_rep['macro avg']['f1-score']\n",
    "\n",
    "# Create the result1 dictionary with the calculated values\n",
    "result1 = {\n",
    "    'Total Computation Time': Computation_time,\n",
    "    'Accuracy': accuracy * 100,\n",
    "    'Macro Avg Precision': macro_avg_precision * 100,\n",
    "    'Macro Avg Recall': macro_avg_recall * 100,\n",
    "    'Macro Avg F1-Score': macro_avg_f1_score * 100\n",
    "}\n",
    "\n",
    "# Print the formatted values\n",
    "for key, value in result1.items():\n",
    "    if isinstance(value, float):\n",
    "        # Format floats to display exactly four decimal places\n",
    "        formatted_value = '{:.4f}'.format(value)\n",
    "    else:\n",
    "        formatted_value = value  # Leave non-float values as they are\n",
    "\n",
    "    print(f'{key}: {formatted_value}')\n"
   ]
  },
  {
   "cell_type": "code",
   "execution_count": null,
   "id": "1aab86bf",
   "metadata": {},
   "outputs": [],
   "source": []
  },
  {
   "cell_type": "markdown",
   "id": "980e345a",
   "metadata": {},
   "source": [
    "# Sample2"
   ]
  },
  {
   "cell_type": "code",
   "execution_count": 123,
   "id": "1627b632",
   "metadata": {},
   "outputs": [],
   "source": [
    "df_2 = pd.read_csv('Sample2_Data.csv')"
   ]
  },
  {
   "cell_type": "code",
   "execution_count": 124,
   "id": "5211950d",
   "metadata": {},
   "outputs": [],
   "source": [
    "X_test2=df_2[['area', 'major_axis_length',  'perimeter','equiv_diameter']]\n",
    "y_test2=df_2[['category']]"
   ]
  },
  {
   "cell_type": "code",
   "execution_count": 125,
   "id": "d13a61f5",
   "metadata": {},
   "outputs": [],
   "source": [
    "start_time = time.time()\n",
    "\n",
    "y_pred2=model.predict(X_test2)\n",
    "\n",
    "end_time = time.time()\n",
    "\n",
    "Computation_time = end_time - start_time"
   ]
  },
  {
   "cell_type": "code",
   "execution_count": 126,
   "id": "a29aacd6",
   "metadata": {},
   "outputs": [],
   "source": [
    "test2=pd.concat([X_test2, y_test2], axis='columns')"
   ]
  },
  {
   "cell_type": "code",
   "execution_count": 127,
   "id": "23dbb0cf",
   "metadata": {},
   "outputs": [],
   "source": [
    "dc2=pd.concat([test2.reset_index(), pd.Series(y_pred2, name='predicted')], axis='columns')"
   ]
  },
  {
   "cell_type": "code",
   "execution_count": 128,
   "id": "da4addbf",
   "metadata": {},
   "outputs": [
    {
     "data": {
      "text/html": [
       "<div>\n",
       "<style scoped>\n",
       "    .dataframe tbody tr th:only-of-type {\n",
       "        vertical-align: middle;\n",
       "    }\n",
       "\n",
       "    .dataframe tbody tr th {\n",
       "        vertical-align: top;\n",
       "    }\n",
       "\n",
       "    .dataframe thead th {\n",
       "        text-align: right;\n",
       "    }\n",
       "</style>\n",
       "<table border=\"1\" class=\"dataframe\">\n",
       "  <thead>\n",
       "    <tr style=\"text-align: right;\">\n",
       "      <th></th>\n",
       "      <th>index</th>\n",
       "      <th>area</th>\n",
       "      <th>major_axis_length</th>\n",
       "      <th>perimeter</th>\n",
       "      <th>equiv_diameter</th>\n",
       "      <th>category</th>\n",
       "      <th>predicted</th>\n",
       "    </tr>\n",
       "  </thead>\n",
       "  <tbody>\n",
       "    <tr>\n",
       "      <th>0</th>\n",
       "      <td>0</td>\n",
       "      <td>1159</td>\n",
       "      <td>66.744855</td>\n",
       "      <td>144.132</td>\n",
       "      <td>38.414641</td>\n",
       "      <td>Whole Rice</td>\n",
       "      <td>Whole Rice</td>\n",
       "    </tr>\n",
       "    <tr>\n",
       "      <th>1</th>\n",
       "      <td>1</td>\n",
       "      <td>1087</td>\n",
       "      <td>65.328214</td>\n",
       "      <td>140.643</td>\n",
       "      <td>37.202303</td>\n",
       "      <td>Whole Rice</td>\n",
       "      <td>Whole Rice</td>\n",
       "    </tr>\n",
       "    <tr>\n",
       "      <th>2</th>\n",
       "      <td>2</td>\n",
       "      <td>1085</td>\n",
       "      <td>62.647573</td>\n",
       "      <td>137.119</td>\n",
       "      <td>37.168063</td>\n",
       "      <td>Whole Rice</td>\n",
       "      <td>Whole Rice</td>\n",
       "    </tr>\n",
       "    <tr>\n",
       "      <th>3</th>\n",
       "      <td>3</td>\n",
       "      <td>1154</td>\n",
       "      <td>64.571988</td>\n",
       "      <td>141.660</td>\n",
       "      <td>38.331690</td>\n",
       "      <td>Whole Rice</td>\n",
       "      <td>Whole Rice</td>\n",
       "    </tr>\n",
       "    <tr>\n",
       "      <th>4</th>\n",
       "      <td>4</td>\n",
       "      <td>1098</td>\n",
       "      <td>64.987673</td>\n",
       "      <td>142.644</td>\n",
       "      <td>37.390066</td>\n",
       "      <td>Whole Rice</td>\n",
       "      <td>Whole Rice</td>\n",
       "    </tr>\n",
       "    <tr>\n",
       "      <th>...</th>\n",
       "      <td>...</td>\n",
       "      <td>...</td>\n",
       "      <td>...</td>\n",
       "      <td>...</td>\n",
       "      <td>...</td>\n",
       "      <td>...</td>\n",
       "      <td>...</td>\n",
       "    </tr>\n",
       "    <tr>\n",
       "      <th>395</th>\n",
       "      <td>395</td>\n",
       "      <td>901</td>\n",
       "      <td>61.521619</td>\n",
       "      <td>131.561</td>\n",
       "      <td>33.870176</td>\n",
       "      <td>Big Broke</td>\n",
       "      <td>Big Broke</td>\n",
       "    </tr>\n",
       "    <tr>\n",
       "      <th>396</th>\n",
       "      <td>396</td>\n",
       "      <td>827</td>\n",
       "      <td>61.572143</td>\n",
       "      <td>130.254</td>\n",
       "      <td>32.449485</td>\n",
       "      <td>Big Broke</td>\n",
       "      <td>Big Broke</td>\n",
       "    </tr>\n",
       "    <tr>\n",
       "      <th>397</th>\n",
       "      <td>397</td>\n",
       "      <td>869</td>\n",
       "      <td>64.193722</td>\n",
       "      <td>134.498</td>\n",
       "      <td>33.263270</td>\n",
       "      <td>Big Broke</td>\n",
       "      <td>Big Broke</td>\n",
       "    </tr>\n",
       "    <tr>\n",
       "      <th>398</th>\n",
       "      <td>398</td>\n",
       "      <td>551</td>\n",
       "      <td>33.988487</td>\n",
       "      <td>84.274</td>\n",
       "      <td>26.486883</td>\n",
       "      <td>Small Broke</td>\n",
       "      <td>Small Broke</td>\n",
       "    </tr>\n",
       "    <tr>\n",
       "      <th>399</th>\n",
       "      <td>399</td>\n",
       "      <td>497</td>\n",
       "      <td>32.980543</td>\n",
       "      <td>82.083</td>\n",
       "      <td>25.155517</td>\n",
       "      <td>Small Broke</td>\n",
       "      <td>Small Broke</td>\n",
       "    </tr>\n",
       "  </tbody>\n",
       "</table>\n",
       "<p>400 rows × 7 columns</p>\n",
       "</div>"
      ],
      "text/plain": [
       "     index  area  major_axis_length  perimeter  equiv_diameter     category  \\\n",
       "0        0  1159          66.744855    144.132       38.414641   Whole Rice   \n",
       "1        1  1087          65.328214    140.643       37.202303   Whole Rice   \n",
       "2        2  1085          62.647573    137.119       37.168063   Whole Rice   \n",
       "3        3  1154          64.571988    141.660       38.331690   Whole Rice   \n",
       "4        4  1098          64.987673    142.644       37.390066   Whole Rice   \n",
       "..     ...   ...                ...        ...             ...          ...   \n",
       "395    395   901          61.521619    131.561       33.870176    Big Broke   \n",
       "396    396   827          61.572143    130.254       32.449485    Big Broke   \n",
       "397    397   869          64.193722    134.498       33.263270    Big Broke   \n",
       "398    398   551          33.988487     84.274       26.486883  Small Broke   \n",
       "399    399   497          32.980543     82.083       25.155517  Small Broke   \n",
       "\n",
       "       predicted  \n",
       "0     Whole Rice  \n",
       "1     Whole Rice  \n",
       "2     Whole Rice  \n",
       "3     Whole Rice  \n",
       "4     Whole Rice  \n",
       "..           ...  \n",
       "395    Big Broke  \n",
       "396    Big Broke  \n",
       "397    Big Broke  \n",
       "398  Small Broke  \n",
       "399  Small Broke  \n",
       "\n",
       "[400 rows x 7 columns]"
      ]
     },
     "execution_count": 128,
     "metadata": {},
     "output_type": "execute_result"
    }
   ],
   "source": [
    "dc2"
   ]
  },
  {
   "cell_type": "code",
   "execution_count": 129,
   "id": "31b94f50",
   "metadata": {},
   "outputs": [
    {
     "name": "stdout",
     "output_type": "stream",
     "text": [
      "Accuracy on testing data: 99.25%\n"
     ]
    }
   ],
   "source": [
    "Testing_accuracy = accuracy_score(y_test2, y_pred2)\n",
    "print('Accuracy on testing data: {:.2f}%'.format(Testing_accuracy * 100))"
   ]
  },
  {
   "cell_type": "code",
   "execution_count": 130,
   "id": "a9d53042",
   "metadata": {},
   "outputs": [
    {
     "data": {
      "image/png": "[encoded data removed]",
      "text/plain": [
       "<Figure size 480x480 with 2 Axes>"
      ]
     },
     "metadata": {},
     "output_type": "display_data"
    }
   ],
   "source": [
    "category_labels = sorted(y_test2['category'].unique())\n",
    "\n",
    "cm = confusion_matrix(y_test2, y_pred2)\n",
    "plt.matshow(cm, cmap=plt.cm.Blues)\n",
    "plt.colorbar()\n",
    "\n",
    "plt.xticks(np.arange(len(category_labels)), category_labels, rotation='vertical')\n",
    "plt.yticks(np.arange(len(category_labels)), category_labels)\n",
    "\n",
    "plt.xlabel('Predicted')\n",
    "plt.ylabel('True')\n",
    "\n",
    "for i in range(cm.shape[0]):\n",
    "    for j in range(cm.shape[1]):\n",
    "        plt.text(j, i, str(cm[i, j]), horizontalalignment=\"center\", color=\"white\" if cm[i, j] > cm.max() / 2. else \"black\")\n",
    "\n",
    "plt.show()"
   ]
  },
  {
   "cell_type": "code",
   "execution_count": 131,
   "id": "488773e4",
   "metadata": {},
   "outputs": [
    {
     "name": "stdout",
     "output_type": "stream",
     "text": [
      "Total Computation Time: 0.0160 seconds\n",
      "Accuracy Score: 99.25\n",
      "Testing Report:\n",
      "               precision    recall  f1-score   support\n",
      "\n",
      "   Big Broke     1.0000    1.0000    1.0000        26\n",
      "   Head rice     0.9924    0.9848    0.9886       132\n",
      " Small Broke     1.0000    1.0000    1.0000         2\n",
      "  Whole Rice     0.9917    0.9958    0.9938       240\n",
      "\n",
      "    accuracy                         0.9925       400\n",
      "   macro avg     0.9960    0.9952    0.9956       400\n",
      "weighted avg     0.9925    0.9925    0.9925       400\n",
      "\n"
     ]
    }
   ],
   "source": [
    "from sklearn.metrics import accuracy_score, confusion_matrix, classification_report\n",
    "\n",
    "print(f\"Total Computation Time: {Computation_time:.4f} seconds\")\n",
    "print(\"Accuracy Score:\", accuracy_score(y_test2, y_pred2) * 100)\n",
    "print(\"Testing Report:\\n\", classification_report(y_test2, y_pred2, digits=4))"
   ]
  },
  {
   "cell_type": "code",
   "execution_count": 132,
   "id": "c7dcc68b",
   "metadata": {},
   "outputs": [
    {
     "name": "stdout",
     "output_type": "stream",
     "text": [
      "Total Computation Time: 0.0160\n",
      "Accuracy: 99.2500\n",
      "Macro Avg Precision: 99.6017\n",
      "Macro Avg Recall: 99.5170\n",
      "Macro Avg F1-Score: 99.5589\n"
     ]
    }
   ],
   "source": [
    "# Calculate metrics\n",
    "accuracy = accuracy_score(y_test2, y_pred2)\n",
    "classification_rep = classification_report(y_test2, y_pred2, digits=4, output_dict=True)\n",
    "macro_avg_precision = classification_rep['macro avg']['precision']\n",
    "macro_avg_recall = classification_rep['macro avg']['recall']\n",
    "macro_avg_f1_score = classification_rep['macro avg']['f1-score']\n",
    "\n",
    "# Create the result1 dictionary with the calculated values\n",
    "result2 = {\n",
    "    'Total Computation Time': Computation_time,\n",
    "    'Accuracy': accuracy * 100,\n",
    "    'Macro Avg Precision': macro_avg_precision * 100,\n",
    "    'Macro Avg Recall': macro_avg_recall * 100,\n",
    "    'Macro Avg F1-Score': macro_avg_f1_score * 100\n",
    "}\n",
    "\n",
    "# Print the formatted values\n",
    "for key, value in result2.items():\n",
    "    if isinstance(value, float):\n",
    "        # Format floats to display exactly four decimal places\n",
    "        formatted_value = '{:.4f}'.format(value)\n",
    "    else:\n",
    "        formatted_value = value  # Leave non-float values as they are\n",
    "\n",
    "    print(f'{key}: {formatted_value}')\n"
   ]
  },
  {
   "cell_type": "code",
   "execution_count": null,
   "id": "2bb7e36b",
   "metadata": {},
   "outputs": [],
   "source": []
  },
  {
   "cell_type": "markdown",
   "id": "84460c1a",
   "metadata": {},
   "source": [
    "# Sample3"
   ]
  },
  {
   "cell_type": "code",
   "execution_count": 133,
   "id": "6ed5a462",
   "metadata": {},
   "outputs": [],
   "source": [
    "df_3 = pd.read_csv('Sample3_Data.csv')"
   ]
  },
  {
   "cell_type": "code",
   "execution_count": 134,
   "id": "0a917806",
   "metadata": {},
   "outputs": [],
   "source": [
    "X_test3=df_3[['area', 'major_axis_length',  'perimeter','equiv_diameter']]\n",
    "y_test3=df_3[['category']]"
   ]
  },
  {
   "cell_type": "code",
   "execution_count": 135,
   "id": "db986925",
   "metadata": {},
   "outputs": [],
   "source": [
    "start_time = time.time()\n",
    "\n",
    "y_pred3=model.predict(X_test3)\n",
    "\n",
    "end_time = time.time()\n",
    "\n",
    "Computation_time = end_time - start_time"
   ]
  },
  {
   "cell_type": "code",
   "execution_count": 136,
   "id": "1e3a9af5",
   "metadata": {},
   "outputs": [],
   "source": [
    "test3=pd.concat([X_test3, y_test3], axis='columns')"
   ]
  },
  {
   "cell_type": "code",
   "execution_count": 137,
   "id": "e32cf1c1",
   "metadata": {},
   "outputs": [],
   "source": [
    "dc3=pd.concat([test3.reset_index(), pd.Series(y_pred3, name='predicted')], axis='columns')"
   ]
  },
  {
   "cell_type": "code",
   "execution_count": 138,
   "id": "6984e5b4",
   "metadata": {},
   "outputs": [
    {
     "data": {
      "text/html": [
       "<div>\n",
       "<style scoped>\n",
       "    .dataframe tbody tr th:only-of-type {\n",
       "        vertical-align: middle;\n",
       "    }\n",
       "\n",
       "    .dataframe tbody tr th {\n",
       "        vertical-align: top;\n",
       "    }\n",
       "\n",
       "    .dataframe thead th {\n",
       "        text-align: right;\n",
       "    }\n",
       "</style>\n",
       "<table border=\"1\" class=\"dataframe\">\n",
       "  <thead>\n",
       "    <tr style=\"text-align: right;\">\n",
       "      <th></th>\n",
       "      <th>index</th>\n",
       "      <th>area</th>\n",
       "      <th>major_axis_length</th>\n",
       "      <th>perimeter</th>\n",
       "      <th>equiv_diameter</th>\n",
       "      <th>category</th>\n",
       "      <th>predicted</th>\n",
       "    </tr>\n",
       "  </thead>\n",
       "  <tbody>\n",
       "    <tr>\n",
       "      <th>0</th>\n",
       "      <td>0</td>\n",
       "      <td>1101</td>\n",
       "      <td>64.433811</td>\n",
       "      <td>139.707</td>\n",
       "      <td>37.441110</td>\n",
       "      <td>Whole Rice</td>\n",
       "      <td>Whole Rice</td>\n",
       "    </tr>\n",
       "    <tr>\n",
       "      <th>1</th>\n",
       "      <td>1</td>\n",
       "      <td>1105</td>\n",
       "      <td>65.867849</td>\n",
       "      <td>143.454</td>\n",
       "      <td>37.509062</td>\n",
       "      <td>Whole Rice</td>\n",
       "      <td>Whole Rice</td>\n",
       "    </tr>\n",
       "    <tr>\n",
       "      <th>2</th>\n",
       "      <td>2</td>\n",
       "      <td>1105</td>\n",
       "      <td>66.476728</td>\n",
       "      <td>144.347</td>\n",
       "      <td>37.509062</td>\n",
       "      <td>Whole Rice</td>\n",
       "      <td>Whole Rice</td>\n",
       "    </tr>\n",
       "    <tr>\n",
       "      <th>3</th>\n",
       "      <td>3</td>\n",
       "      <td>1080</td>\n",
       "      <td>65.570792</td>\n",
       "      <td>141.610</td>\n",
       "      <td>37.082323</td>\n",
       "      <td>Whole Rice</td>\n",
       "      <td>Whole Rice</td>\n",
       "    </tr>\n",
       "    <tr>\n",
       "      <th>4</th>\n",
       "      <td>4</td>\n",
       "      <td>1083</td>\n",
       "      <td>66.847603</td>\n",
       "      <td>142.999</td>\n",
       "      <td>37.133791</td>\n",
       "      <td>Whole Rice</td>\n",
       "      <td>Whole Rice</td>\n",
       "    </tr>\n",
       "    <tr>\n",
       "      <th>...</th>\n",
       "      <td>...</td>\n",
       "      <td>...</td>\n",
       "      <td>...</td>\n",
       "      <td>...</td>\n",
       "      <td>...</td>\n",
       "      <td>...</td>\n",
       "      <td>...</td>\n",
       "    </tr>\n",
       "    <tr>\n",
       "      <th>395</th>\n",
       "      <td>395</td>\n",
       "      <td>849</td>\n",
       "      <td>56.702281</td>\n",
       "      <td>124.807</td>\n",
       "      <td>32.878266</td>\n",
       "      <td>Big Broke</td>\n",
       "      <td>Big Broke</td>\n",
       "    </tr>\n",
       "    <tr>\n",
       "      <th>396</th>\n",
       "      <td>396</td>\n",
       "      <td>515</td>\n",
       "      <td>32.980736</td>\n",
       "      <td>82.710</td>\n",
       "      <td>25.606998</td>\n",
       "      <td>Small Broke</td>\n",
       "      <td>Small Broke</td>\n",
       "    </tr>\n",
       "    <tr>\n",
       "      <th>397</th>\n",
       "      <td>397</td>\n",
       "      <td>505</td>\n",
       "      <td>35.550758</td>\n",
       "      <td>84.001</td>\n",
       "      <td>25.357168</td>\n",
       "      <td>Small Broke</td>\n",
       "      <td>Small Broke</td>\n",
       "    </tr>\n",
       "    <tr>\n",
       "      <th>398</th>\n",
       "      <td>398</td>\n",
       "      <td>455</td>\n",
       "      <td>34.490506</td>\n",
       "      <td>80.808</td>\n",
       "      <td>24.069150</td>\n",
       "      <td>Small Broke</td>\n",
       "      <td>Small Broke</td>\n",
       "    </tr>\n",
       "    <tr>\n",
       "      <th>399</th>\n",
       "      <td>399</td>\n",
       "      <td>328</td>\n",
       "      <td>21.786792</td>\n",
       "      <td>67.559</td>\n",
       "      <td>20.435816</td>\n",
       "      <td>Small Broke C1</td>\n",
       "      <td>Small Broke C1</td>\n",
       "    </tr>\n",
       "  </tbody>\n",
       "</table>\n",
       "<p>400 rows × 7 columns</p>\n",
       "</div>"
      ],
      "text/plain": [
       "     index  area  major_axis_length  perimeter  equiv_diameter  \\\n",
       "0        0  1101          64.433811    139.707       37.441110   \n",
       "1        1  1105          65.867849    143.454       37.509062   \n",
       "2        2  1105          66.476728    144.347       37.509062   \n",
       "3        3  1080          65.570792    141.610       37.082323   \n",
       "4        4  1083          66.847603    142.999       37.133791   \n",
       "..     ...   ...                ...        ...             ...   \n",
       "395    395   849          56.702281    124.807       32.878266   \n",
       "396    396   515          32.980736     82.710       25.606998   \n",
       "397    397   505          35.550758     84.001       25.357168   \n",
       "398    398   455          34.490506     80.808       24.069150   \n",
       "399    399   328          21.786792     67.559       20.435816   \n",
       "\n",
       "           category       predicted  \n",
       "0        Whole Rice      Whole Rice  \n",
       "1        Whole Rice      Whole Rice  \n",
       "2        Whole Rice      Whole Rice  \n",
       "3        Whole Rice      Whole Rice  \n",
       "4        Whole Rice      Whole Rice  \n",
       "..              ...             ...  \n",
       "395       Big Broke       Big Broke  \n",
       "396     Small Broke     Small Broke  \n",
       "397     Small Broke     Small Broke  \n",
       "398     Small Broke     Small Broke  \n",
       "399  Small Broke C1  Small Broke C1  \n",
       "\n",
       "[400 rows x 7 columns]"
      ]
     },
     "execution_count": 138,
     "metadata": {},
     "output_type": "execute_result"
    }
   ],
   "source": [
    "dc3"
   ]
  },
  {
   "cell_type": "code",
   "execution_count": 139,
   "id": "45733421",
   "metadata": {},
   "outputs": [
    {
     "name": "stdout",
     "output_type": "stream",
     "text": [
      "Accuracy on testing data: 99.00%\n"
     ]
    }
   ],
   "source": [
    "Testing_accuracy = accuracy_score(y_test3, y_pred3)\n",
    "print('Accuracy on testing data: {:.2f}%'.format(Testing_accuracy * 100))"
   ]
  },
  {
   "cell_type": "code",
   "execution_count": 140,
   "id": "8e3ede7f",
   "metadata": {},
   "outputs": [
    {
     "data": {
      "image/png": "[encoded data removed]",
      "text/plain": [
       "<Figure size 480x480 with 2 Axes>"
      ]
     },
     "metadata": {},
     "output_type": "display_data"
    }
   ],
   "source": [
    "category_labels = sorted(y_test3['category'].unique())\n",
    "\n",
    "cm = confusion_matrix(y_test3, y_pred3)\n",
    "plt.matshow(cm, cmap=plt.cm.Blues)\n",
    "plt.colorbar()\n",
    "\n",
    "plt.xticks(np.arange(len(category_labels)), category_labels, rotation='vertical')\n",
    "plt.yticks(np.arange(len(category_labels)), category_labels)\n",
    "\n",
    "plt.xlabel('Predicted')\n",
    "plt.ylabel('True')\n",
    "\n",
    "for i in range(cm.shape[0]):\n",
    "    for j in range(cm.shape[1]):\n",
    "        plt.text(j, i, str(cm[i, j]), horizontalalignment=\"center\", color=\"white\" if cm[i, j] > cm.max() / 2. else \"black\")\n",
    "\n",
    "plt.show()"
   ]
  },
  {
   "cell_type": "code",
   "execution_count": 141,
   "id": "d664924f",
   "metadata": {},
   "outputs": [
    {
     "name": "stdout",
     "output_type": "stream",
     "text": [
      "Total Computation Time: 0.0160 seconds\n",
      "Accuracy Score: 99.0\n",
      "Testing Report:\n",
      "                 precision    recall  f1-score   support\n",
      "\n",
      "     Big Broke     1.0000    1.0000    1.0000        44\n",
      "     Head rice     0.9848    0.9848    0.9848       132\n",
      "   Small Broke     1.0000    1.0000    1.0000         3\n",
      "Small Broke C1     1.0000    1.0000    1.0000         1\n",
      "    Whole Rice     0.9909    0.9909    0.9909       220\n",
      "\n",
      "      accuracy                         0.9900       400\n",
      "     macro avg     0.9952    0.9952    0.9952       400\n",
      "  weighted avg     0.9900    0.9900    0.9900       400\n",
      "\n"
     ]
    }
   ],
   "source": [
    "from sklearn.metrics import accuracy_score, confusion_matrix, classification_report\n",
    "\n",
    "print(f\"Total Computation Time: {Computation_time:.4f} seconds\")\n",
    "print(\"Accuracy Score:\", accuracy_score(y_test3, y_pred3) * 100)\n",
    "print(\"Testing Report:\\n\", classification_report(y_test3, y_pred3, digits=4))"
   ]
  },
  {
   "cell_type": "code",
   "execution_count": 142,
   "id": "76fc4a83",
   "metadata": {},
   "outputs": [
    {
     "name": "stdout",
     "output_type": "stream",
     "text": [
      "Total Computation Time: 0.0160\n",
      "Accuracy: 99.0000\n",
      "Macro Avg Precision: 99.5152\n",
      "Macro Avg Recall: 99.5152\n",
      "Macro Avg F1-Score: 99.5152\n"
     ]
    }
   ],
   "source": [
    "# Calculate metrics\n",
    "accuracy = accuracy_score(y_test3, y_pred3)\n",
    "classification_rep = classification_report(y_test3, y_pred3, digits=4, output_dict=True)\n",
    "macro_avg_precision = classification_rep['macro avg']['precision']\n",
    "macro_avg_recall = classification_rep['macro avg']['recall']\n",
    "macro_avg_f1_score = classification_rep['macro avg']['f1-score']\n",
    "\n",
    "# Create the result1 dictionary with the calculated values\n",
    "result3 = {\n",
    "    'Total Computation Time': Computation_time,\n",
    "    'Accuracy': accuracy * 100,\n",
    "    'Macro Avg Precision': macro_avg_precision * 100,\n",
    "    'Macro Avg Recall': macro_avg_recall * 100,\n",
    "    'Macro Avg F1-Score': macro_avg_f1_score * 100\n",
    "}\n",
    "\n",
    "# Print the formatted values\n",
    "for key, value in result3.items():\n",
    "    if isinstance(value, float):\n",
    "        # Format floats to display exactly four decimal places\n",
    "        formatted_value = '{:.4f}'.format(value)\n",
    "    else:\n",
    "        formatted_value = value  # Leave non-float values as they are\n",
    "\n",
    "    print(f'{key}: {formatted_value}')"
   ]
  },
  {
   "cell_type": "code",
   "execution_count": null,
   "id": "ad3021d4",
   "metadata": {},
   "outputs": [],
   "source": []
  },
  {
   "cell_type": "markdown",
   "id": "f16477a9",
   "metadata": {},
   "source": [
    "# Sample4"
   ]
  },
  {
   "cell_type": "code",
   "execution_count": 143,
   "id": "beb37fb3",
   "metadata": {},
   "outputs": [],
   "source": [
    "df_4 = pd.read_csv('Sample4_Data.csv')"
   ]
  },
  {
   "cell_type": "code",
   "execution_count": 144,
   "id": "60b3479e",
   "metadata": {},
   "outputs": [],
   "source": [
    "X_test4=df_4[['area', 'major_axis_length',  'perimeter','equiv_diameter']]\n",
    "y_test4=df_4[['category']]"
   ]
  },
  {
   "cell_type": "code",
   "execution_count": 145,
   "id": "b3cf0dcd",
   "metadata": {},
   "outputs": [],
   "source": [
    "start_time = time.time()\n",
    "\n",
    "y_pred4=model.predict(X_test4)\n",
    "\n",
    "end_time = time.time()\n",
    "\n",
    "Computation_time = end_time - start_time"
   ]
  },
  {
   "cell_type": "code",
   "execution_count": 146,
   "id": "ef0cbca7",
   "metadata": {},
   "outputs": [],
   "source": [
    "test4=pd.concat([X_test4, y_test4], axis='columns')"
   ]
  },
  {
   "cell_type": "code",
   "execution_count": 147,
   "id": "007804df",
   "metadata": {},
   "outputs": [],
   "source": [
    "dc4=pd.concat([test4.reset_index(), pd.Series(y_pred4, name='predicted')], axis='columns')"
   ]
  },
  {
   "cell_type": "code",
   "execution_count": 148,
   "id": "db601adf",
   "metadata": {},
   "outputs": [
    {
     "data": {
      "text/html": [
       "<div>\n",
       "<style scoped>\n",
       "    .dataframe tbody tr th:only-of-type {\n",
       "        vertical-align: middle;\n",
       "    }\n",
       "\n",
       "    .dataframe tbody tr th {\n",
       "        vertical-align: top;\n",
       "    }\n",
       "\n",
       "    .dataframe thead th {\n",
       "        text-align: right;\n",
       "    }\n",
       "</style>\n",
       "<table border=\"1\" class=\"dataframe\">\n",
       "  <thead>\n",
       "    <tr style=\"text-align: right;\">\n",
       "      <th></th>\n",
       "      <th>index</th>\n",
       "      <th>area</th>\n",
       "      <th>major_axis_length</th>\n",
       "      <th>perimeter</th>\n",
       "      <th>equiv_diameter</th>\n",
       "      <th>category</th>\n",
       "      <th>predicted</th>\n",
       "    </tr>\n",
       "  </thead>\n",
       "  <tbody>\n",
       "    <tr>\n",
       "      <th>0</th>\n",
       "      <td>0</td>\n",
       "      <td>1140</td>\n",
       "      <td>70.631431</td>\n",
       "      <td>149.690</td>\n",
       "      <td>38.098466</td>\n",
       "      <td>Whole Rice</td>\n",
       "      <td>Whole Rice</td>\n",
       "    </tr>\n",
       "    <tr>\n",
       "      <th>1</th>\n",
       "      <td>1</td>\n",
       "      <td>1164</td>\n",
       "      <td>70.585455</td>\n",
       "      <td>150.840</td>\n",
       "      <td>38.497413</td>\n",
       "      <td>Whole Rice</td>\n",
       "      <td>Whole Rice</td>\n",
       "    </tr>\n",
       "    <tr>\n",
       "      <th>2</th>\n",
       "      <td>2</td>\n",
       "      <td>1084</td>\n",
       "      <td>70.207957</td>\n",
       "      <td>148.689</td>\n",
       "      <td>37.150931</td>\n",
       "      <td>Whole Rice</td>\n",
       "      <td>Whole Rice</td>\n",
       "    </tr>\n",
       "    <tr>\n",
       "      <th>3</th>\n",
       "      <td>3</td>\n",
       "      <td>1310</td>\n",
       "      <td>72.602047</td>\n",
       "      <td>157.009</td>\n",
       "      <td>40.840468</td>\n",
       "      <td>Whole Rice</td>\n",
       "      <td>Whole Rice</td>\n",
       "    </tr>\n",
       "    <tr>\n",
       "      <th>4</th>\n",
       "      <td>4</td>\n",
       "      <td>1114</td>\n",
       "      <td>68.128409</td>\n",
       "      <td>145.498</td>\n",
       "      <td>37.661504</td>\n",
       "      <td>Whole Rice</td>\n",
       "      <td>Whole Rice</td>\n",
       "    </tr>\n",
       "    <tr>\n",
       "      <th>...</th>\n",
       "      <td>...</td>\n",
       "      <td>...</td>\n",
       "      <td>...</td>\n",
       "      <td>...</td>\n",
       "      <td>...</td>\n",
       "      <td>...</td>\n",
       "      <td>...</td>\n",
       "    </tr>\n",
       "    <tr>\n",
       "      <th>395</th>\n",
       "      <td>395</td>\n",
       "      <td>887</td>\n",
       "      <td>51.414365</td>\n",
       "      <td>117.668</td>\n",
       "      <td>33.606004</td>\n",
       "      <td>Big Broke</td>\n",
       "      <td>Big Broke</td>\n",
       "    </tr>\n",
       "    <tr>\n",
       "      <th>396</th>\n",
       "      <td>396</td>\n",
       "      <td>456</td>\n",
       "      <td>29.597383</td>\n",
       "      <td>78.153</td>\n",
       "      <td>24.095585</td>\n",
       "      <td>Small Broke</td>\n",
       "      <td>Small Broke</td>\n",
       "    </tr>\n",
       "    <tr>\n",
       "      <th>397</th>\n",
       "      <td>397</td>\n",
       "      <td>457</td>\n",
       "      <td>29.612799</td>\n",
       "      <td>77.865</td>\n",
       "      <td>24.121991</td>\n",
       "      <td>Small Broke</td>\n",
       "      <td>Small Broke</td>\n",
       "    </tr>\n",
       "    <tr>\n",
       "      <th>398</th>\n",
       "      <td>398</td>\n",
       "      <td>462</td>\n",
       "      <td>29.267010</td>\n",
       "      <td>77.666</td>\n",
       "      <td>24.253591</td>\n",
       "      <td>Small Broke</td>\n",
       "      <td>Small Broke</td>\n",
       "    </tr>\n",
       "    <tr>\n",
       "      <th>399</th>\n",
       "      <td>399</td>\n",
       "      <td>294</td>\n",
       "      <td>21.948536</td>\n",
       "      <td>58.818</td>\n",
       "      <td>19.347672</td>\n",
       "      <td>Small Broke C1</td>\n",
       "      <td>Small Broke C1</td>\n",
       "    </tr>\n",
       "  </tbody>\n",
       "</table>\n",
       "<p>400 rows × 7 columns</p>\n",
       "</div>"
      ],
      "text/plain": [
       "     index  area  major_axis_length  perimeter  equiv_diameter  \\\n",
       "0        0  1140          70.631431    149.690       38.098466   \n",
       "1        1  1164          70.585455    150.840       38.497413   \n",
       "2        2  1084          70.207957    148.689       37.150931   \n",
       "3        3  1310          72.602047    157.009       40.840468   \n",
       "4        4  1114          68.128409    145.498       37.661504   \n",
       "..     ...   ...                ...        ...             ...   \n",
       "395    395   887          51.414365    117.668       33.606004   \n",
       "396    396   456          29.597383     78.153       24.095585   \n",
       "397    397   457          29.612799     77.865       24.121991   \n",
       "398    398   462          29.267010     77.666       24.253591   \n",
       "399    399   294          21.948536     58.818       19.347672   \n",
       "\n",
       "           category       predicted  \n",
       "0        Whole Rice      Whole Rice  \n",
       "1        Whole Rice      Whole Rice  \n",
       "2        Whole Rice      Whole Rice  \n",
       "3        Whole Rice      Whole Rice  \n",
       "4        Whole Rice      Whole Rice  \n",
       "..              ...             ...  \n",
       "395       Big Broke       Big Broke  \n",
       "396     Small Broke     Small Broke  \n",
       "397     Small Broke     Small Broke  \n",
       "398     Small Broke     Small Broke  \n",
       "399  Small Broke C1  Small Broke C1  \n",
       "\n",
       "[400 rows x 7 columns]"
      ]
     },
     "execution_count": 148,
     "metadata": {},
     "output_type": "execute_result"
    }
   ],
   "source": [
    "dc4"
   ]
  },
  {
   "cell_type": "code",
   "execution_count": 149,
   "id": "b6277d61",
   "metadata": {},
   "outputs": [
    {
     "name": "stdout",
     "output_type": "stream",
     "text": [
      "Accuracy on testing data: 100.00%\n"
     ]
    }
   ],
   "source": [
    "Testing_accuracy = accuracy_score(y_test4, y_pred4)\n",
    "print('Accuracy on testing data: {:.2f}%'.format(Testing_accuracy * 100))"
   ]
  },
  {
   "cell_type": "code",
   "execution_count": 150,
   "id": "3f367260",
   "metadata": {},
   "outputs": [
    {
     "data": {
      "image/png": "[encoded data removed]",
      "text/plain": [
       "<Figure size 480x480 with 2 Axes>"
      ]
     },
     "metadata": {},
     "output_type": "display_data"
    }
   ],
   "source": [
    "category_labels = sorted(y_test4['category'].unique())\n",
    "\n",
    "cm = confusion_matrix(y_test4, y_pred4)\n",
    "plt.matshow(cm, cmap=plt.cm.Blues)\n",
    "plt.colorbar()\n",
    "\n",
    "plt.xticks(np.arange(len(category_labels)), category_labels, rotation='vertical')\n",
    "plt.yticks(np.arange(len(category_labels)), category_labels)\n",
    "\n",
    "plt.xlabel('Predicted')\n",
    "plt.ylabel('True')\n",
    "\n",
    "for i in range(cm.shape[0]):\n",
    "    for j in range(cm.shape[1]):\n",
    "        plt.text(j, i, str(cm[i, j]), horizontalalignment=\"center\", color=\"white\" if cm[i, j] > cm.max() / 2. else \"black\")\n",
    "\n",
    "plt.show()"
   ]
  },
  {
   "cell_type": "code",
   "execution_count": 151,
   "id": "874c94bb",
   "metadata": {},
   "outputs": [
    {
     "name": "stdout",
     "output_type": "stream",
     "text": [
      "Total Computation Time: 0.0192 seconds\n",
      "Accuracy Score: 100.0\n",
      "Testing Report:\n",
      "                 precision    recall  f1-score   support\n",
      "\n",
      "     Big Broke     1.0000    1.0000    1.0000        64\n",
      "     Head rice     1.0000    1.0000    1.0000       112\n",
      "   Small Broke     1.0000    1.0000    1.0000         3\n",
      "Small Broke C1     1.0000    1.0000    1.0000         1\n",
      "    Whole Rice     1.0000    1.0000    1.0000       220\n",
      "\n",
      "      accuracy                         1.0000       400\n",
      "     macro avg     1.0000    1.0000    1.0000       400\n",
      "  weighted avg     1.0000    1.0000    1.0000       400\n",
      "\n"
     ]
    }
   ],
   "source": [
    "from sklearn.metrics import accuracy_score, confusion_matrix, classification_report\n",
    "\n",
    "print(f\"Total Computation Time: {Computation_time:.4f} seconds\")\n",
    "print(\"Accuracy Score:\", accuracy_score(y_test4, y_pred4) * 100)\n",
    "print(\"Testing Report:\\n\", classification_report(y_test4, y_pred4, digits=4))"
   ]
  },
  {
   "cell_type": "code",
   "execution_count": 152,
   "id": "20f02810",
   "metadata": {},
   "outputs": [
    {
     "name": "stdout",
     "output_type": "stream",
     "text": [
      "Total Computation Time: 0.0192\n",
      "Accuracy: 100.0000\n",
      "Macro Avg Precision: 100.0000\n",
      "Macro Avg Recall: 100.0000\n",
      "Macro Avg F1-Score: 100.0000\n"
     ]
    }
   ],
   "source": [
    "# Calculate metrics\n",
    "accuracy = accuracy_score(y_test4, y_pred4)\n",
    "classification_rep = classification_report(y_test4, y_pred4, digits=4, output_dict=True)\n",
    "macro_avg_precision = classification_rep['macro avg']['precision']\n",
    "macro_avg_recall = classification_rep['macro avg']['recall']\n",
    "macro_avg_f1_score = classification_rep['macro avg']['f1-score']\n",
    "\n",
    "# Create the result1 dictionary with the calculated values\n",
    "result4 = {\n",
    "    'Total Computation Time': Computation_time,\n",
    "    'Accuracy': accuracy * 100,\n",
    "    'Macro Avg Precision': macro_avg_precision * 100,\n",
    "    'Macro Avg Recall': macro_avg_recall * 100,\n",
    "    'Macro Avg F1-Score': macro_avg_f1_score * 100\n",
    "}\n",
    "\n",
    "# Print the formatted values\n",
    "for key, value in result4.items():\n",
    "    if isinstance(value, float):\n",
    "        # Format floats to display exactly four decimal places\n",
    "        formatted_value = '{:.4f}'.format(value)\n",
    "    else:\n",
    "        formatted_value = value  # Leave non-float values as they are\n",
    "\n",
    "    print(f'{key}: {formatted_value}')"
   ]
  },
  {
   "cell_type": "code",
   "execution_count": null,
   "id": "74aade77",
   "metadata": {},
   "outputs": [],
   "source": []
  }
 ],
 "metadata": {
  "kernelspec": {
   "display_name": "Apply-Python",
   "language": "python",
   "name": "python3"
  },
  "language_info": {
   "codemirror_mode": {
    "name": "ipython",
    "version": 3
   },
   "file_extension": ".py",
   "mimetype": "text/x-python",
   "name": "python",
   "nbconvert_exporter": "python",
   "pygments_lexer": "ipython3",
   "version": "3.11.3"
  }
 },
 "nbformat": 4,
 "nbformat_minor": 5
}
